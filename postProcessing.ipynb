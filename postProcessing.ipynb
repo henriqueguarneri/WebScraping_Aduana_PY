{
 "cells": [
  {
   "cell_type": "markdown",
   "metadata": {},
   "source": [
    "# Webscraping data from http://www.aduana.gov.py/datos/\n",
    "\n",
    "## Post processing - Concat all the scraped tables.\n",
    "\n",
    "## Autor: Henrique Guarneri"
   ]
  },
  {
   "cell_type": "code",
   "execution_count": 34,
   "metadata": {
    "collapsed": true
   },
   "outputs": [],
   "source": [
    "import pandas as pd\n",
    "import glob"
   ]
  },
  {
   "cell_type": "code",
   "execution_count": 77,
   "metadata": {},
   "outputs": [],
   "source": [
    "class Table(object):\n",
    "\n",
    "    def __init__(self):\n",
    "        pass\n",
    "    \n",
    "    def loadTable(self,file_):\n",
    "        print('#### LOADING TABLE ####')\n",
    "        self.file_ = file_\n",
    "        print('####'+file_+'####')\n",
    "        self.table = pd.read_csv(file_,sep='\\t',encoding='iso-8859-1',skipfooter=1)\n",
    "    \n",
    "    def testTable(self):\n",
    "        print('#### TESTING TABLE ####')\n",
    "        if self.table.empty or self.table.columns[1] != u'Aduana ':\n",
    "            print('#### TESTING TABLE #### PASS ###')\n",
    "            self.condition = False\n",
    "        else:\n",
    "            print('#### TESTING TABLE #### FAIL ###')\n",
    "            self.condition = True\n",
    "    \n",
    "    def saveTable(self,path):\n",
    "        print('#### SAVING TABLE ####')\n",
    "        self.table.to_csv(path,sep='\\t',encoding='iso-8859-1')\n",
    "    \n",
    "    def createLogFile(self,name):\n",
    "        print('#### CREATING LOG FILE ###')\n",
    "        self.log = file(name, 'a')\n",
    "    \n",
    "    def report(self):\n",
    "        print('#### WRITING REPORT ###')\n",
    "        self.log.write(file_.split('\\\\')[1]+\"\\n\")\n",
    "    \n",
    "    def filterTable(self,path):\n",
    "        print('#### FILTERING TABLE ###')\n",
    "        if self.condition == True:\n",
    "            self.saveTable(path)\n",
    "            self.report()\n",
    "\n",
    "            \n",
    "def listTables(output):\n",
    "    \n",
    "    files = glob.glob(output+\"*.csv\")\n",
    "    tableList = []\n",
    "    for file_ in files:\n",
    "        df = pd.read_csv(file_,sep='\\t',encoding='iso-8859-1')\n",
    "        tableList.append(df)\n",
    "    return tableList\n",
    "\n",
    "\n",
    "def concatTables(tableList):\n",
    "    \n",
    "    return pd.concat(tableList)\n",
    "\n",
    "def run(file_,output):\n",
    "    \n",
    "    t = Table()\n",
    "    t.loadTable(file_)\n",
    "    t.testTable()\n",
    "    t.createLogFile('log.txt')\n",
    "    t.filterTable(output)     \n",
    "    t.log.close()"
   ]
  },
  {
   "cell_type": "code",
   "execution_count": null,
   "metadata": {
    "collapsed": true
   },
   "outputs": [],
   "source": [
    "if __name__==\"__main__\":\n",
    "    \n",
    "    output = 'tabelasFiltradas\\\\'\n",
    "    source = 'tabelas\\\\'\n",
    "    files = glob.glob(source+\"*.csv\")\n",
    "    for file_ in files:\n",
    "        run(file_,output+file_.split('\\\\')[1])"
   ]
  },
  {
   "cell_type": "markdown",
   "metadata": {},
   "source": [
    "## Concat."
   ]
  },
  {
   "cell_type": "code",
   "execution_count": 78,
   "metadata": {},
   "outputs": [],
   "source": [
    "output = 'tabelasFiltradas\\\\'\n",
    "\n",
    "if __name__==\"__main__\":\n",
    "    \n",
    "    tableList = listTables(output)\n",
    "    tableFinal = concatTables(tableList)\n",
    "    tableFinal.index = range(len(tableFinal))\n",
    "    tableFinal.to_excel('marketShareParaguay_Aduana_2015.xlsx',encoding='iso-8859-1')"
   ]
  }
 ],
 "metadata": {
  "kernelspec": {
   "display_name": "Python [conda root]",
   "language": "python",
   "name": "conda-root-py"
  },
  "language_info": {
   "codemirror_mode": {
    "name": "ipython",
    "version": 2
   },
   "file_extension": ".py",
   "mimetype": "text/x-python",
   "name": "python",
   "nbconvert_exporter": "python",
   "pygments_lexer": "ipython2",
   "version": "2.7.11"
  }
 },
 "nbformat": 4,
 "nbformat_minor": 2
}
